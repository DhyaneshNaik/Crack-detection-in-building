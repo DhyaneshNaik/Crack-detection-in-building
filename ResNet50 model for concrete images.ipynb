{
 "cells": [
  {
   "cell_type": "code",
   "execution_count": 1,
   "metadata": {},
   "outputs": [],
   "source": [
    "import keras\n",
    "from keras.preprocessing.image import ImageDataGenerator\n",
    "from keras.models import Sequential\n",
    "from keras.layers import Dense\n",
    "from keras.applications import ResNet50\n",
    "from keras.applications.resnet50 import preprocess_input"
   ]
  },
  {
   "cell_type": "code",
   "execution_count": 2,
   "metadata": {},
   "outputs": [],
   "source": [
    "num_classes = 2\n",
    "images_size = 224\n",
    "batch_size_training = 100\n",
    "batch_size_validation = 100"
   ]
  },
  {
   "cell_type": "code",
   "execution_count": 3,
   "metadata": {},
   "outputs": [],
   "source": [
    "data_generator = ImageDataGenerator(preprocessing_function=preprocess_input)"
   ]
  },
  {
   "cell_type": "code",
   "execution_count": 4,
   "metadata": {},
   "outputs": [
    {
     "name": "stdout",
     "output_type": "stream",
     "text": [
      "Found 30000 images belonging to 2 classes.\n"
     ]
    }
   ],
   "source": [
    "train_generator = data_generator.flow_from_directory('data/train',\n",
    "                                                    target_size=(images_size,images_size),\n",
    "                                                    batch_size=batch_size_training,\n",
    "                                                    class_mode='categorical')"
   ]
  },
  {
   "cell_type": "code",
   "execution_count": 5,
   "metadata": {},
   "outputs": [
    {
     "name": "stdout",
     "output_type": "stream",
     "text": [
      "Found 10000 images belonging to 2 classes.\n"
     ]
    }
   ],
   "source": [
    "validation_generator = data_generator.flow_from_directory('data/valid',\n",
    "                                                    target_size=(images_size,images_size),\n",
    "                                                    batch_size=batch_size_validation,\n",
    "                                                    class_mode='categorical')"
   ]
  },
  {
   "cell_type": "code",
   "execution_count": 6,
   "metadata": {},
   "outputs": [],
   "source": [
    "model = Sequential()\n",
    "model.add(ResNet50(include_top=False, pooling='avg',weights='imagenet'))\n",
    "model.add(Dense(num_classes,activation='softmax'))"
   ]
  },
  {
   "cell_type": "code",
   "execution_count": 7,
   "metadata": {},
   "outputs": [
    {
     "data": {
      "text/plain": [
       "[<tensorflow.python.keras.engine.training.Model at 0x3b4b8d3508>,\n",
       " <tensorflow.python.keras.layers.core.Dense at 0x3b47d0a648>]"
      ]
     },
     "execution_count": 7,
     "metadata": {},
     "output_type": "execute_result"
    }
   ],
   "source": [
    "model.layers"
   ]
  },
  {
   "cell_type": "code",
   "execution_count": 8,
   "metadata": {},
   "outputs": [
    {
     "data": {
      "text/plain": [
       "[<tensorflow.python.keras.engine.input_layer.InputLayer at 0x3b47d0a048>,\n",
       " <tensorflow.python.keras.layers.convolutional.ZeroPadding2D at 0x3b475d1e08>,\n",
       " <tensorflow.python.keras.layers.convolutional.Conv2D at 0x3b475d16c8>,\n",
       " <tensorflow.python.keras.layers.normalization.BatchNormalization at 0x3b46e2b888>,\n",
       " <tensorflow.python.keras.layers.core.Activation at 0x3b4704dd88>,\n",
       " <tensorflow.python.keras.layers.convolutional.ZeroPadding2D at 0x3b47051348>,\n",
       " <tensorflow.python.keras.layers.pooling.MaxPooling2D at 0x3b49515948>,\n",
       " <tensorflow.python.keras.layers.convolutional.Conv2D at 0x3b49527348>,\n",
       " <tensorflow.python.keras.layers.normalization.BatchNormalization at 0x3b495300c8>,\n",
       " <tensorflow.python.keras.layers.core.Activation at 0x3b49557f88>,\n",
       " <tensorflow.python.keras.layers.convolutional.Conv2D at 0x3b4955ba88>,\n",
       " <tensorflow.python.keras.layers.normalization.BatchNormalization at 0x3b49587448>,\n",
       " <tensorflow.python.keras.layers.core.Activation at 0x3b49587308>,\n",
       " <tensorflow.python.keras.layers.convolutional.Conv2D at 0x3b4951a908>,\n",
       " <tensorflow.python.keras.layers.convolutional.Conv2D at 0x3b4958be08>,\n",
       " <tensorflow.python.keras.layers.normalization.BatchNormalization at 0x3b49520388>,\n",
       " <tensorflow.python.keras.layers.normalization.BatchNormalization at 0x3b495b4ec8>,\n",
       " <tensorflow.python.keras.layers.merge.Add at 0x3b495b5188>,\n",
       " <tensorflow.python.keras.layers.core.Activation at 0x3b495bbc88>,\n",
       " <tensorflow.python.keras.layers.convolutional.Conv2D at 0x3b495e27c8>,\n",
       " <tensorflow.python.keras.layers.normalization.BatchNormalization at 0x3b495e8388>,\n",
       " <tensorflow.python.keras.layers.core.Activation at 0x3b495ed308>,\n",
       " <tensorflow.python.keras.layers.convolutional.Conv2D at 0x3b495f3848>,\n",
       " <tensorflow.python.keras.layers.normalization.BatchNormalization at 0x3b4961a9c8>,\n",
       " <tensorflow.python.keras.layers.core.Activation at 0x3b4961a848>,\n",
       " <tensorflow.python.keras.layers.convolutional.Conv2D at 0x3b49621588>,\n",
       " <tensorflow.python.keras.layers.normalization.BatchNormalization at 0x3b49648c88>,\n",
       " <tensorflow.python.keras.layers.merge.Add at 0x3b4964c6c8>,\n",
       " <tensorflow.python.keras.layers.core.Activation at 0x3b49673388>,\n",
       " <tensorflow.python.keras.layers.convolutional.Conv2D at 0x3b49675cc8>,\n",
       " <tensorflow.python.keras.layers.normalization.BatchNormalization at 0x3b49678e48>,\n",
       " <tensorflow.python.keras.layers.core.Activation at 0x3b4967d108>,\n",
       " <tensorflow.python.keras.layers.convolutional.Conv2D at 0x3b49681d08>,\n",
       " <tensorflow.python.keras.layers.normalization.BatchNormalization at 0x3b496ab548>,\n",
       " <tensorflow.python.keras.layers.core.Activation at 0x3b3a882e08>,\n",
       " <tensorflow.python.keras.layers.convolutional.Conv2D at 0x3b496b2608>,\n",
       " <tensorflow.python.keras.layers.normalization.BatchNormalization at 0x3b496da388>,\n",
       " <tensorflow.python.keras.layers.merge.Add at 0x3b496dab48>,\n",
       " <tensorflow.python.keras.layers.core.Activation at 0x3b496e4548>,\n",
       " <tensorflow.python.keras.layers.convolutional.Conv2D at 0x3b4970d508>,\n",
       " <tensorflow.python.keras.layers.normalization.BatchNormalization at 0x3b4a707bc8>,\n",
       " <tensorflow.python.keras.layers.core.Activation at 0x3b4a708788>,\n",
       " <tensorflow.python.keras.layers.convolutional.Conv2D at 0x3b4a7122c8>,\n",
       " <tensorflow.python.keras.layers.normalization.BatchNormalization at 0x3b4a738b48>,\n",
       " <tensorflow.python.keras.layers.core.Activation at 0x3b4a73c488>,\n",
       " <tensorflow.python.keras.layers.convolutional.Conv2D at 0x3b49707708>,\n",
       " <tensorflow.python.keras.layers.convolutional.Conv2D at 0x3b4a7420c8>,\n",
       " <tensorflow.python.keras.layers.normalization.BatchNormalization at 0x3b4970aac8>,\n",
       " <tensorflow.python.keras.layers.normalization.BatchNormalization at 0x3b4a767f48>,\n",
       " <tensorflow.python.keras.layers.merge.Add at 0x3b4a76a2c8>,\n",
       " <tensorflow.python.keras.layers.core.Activation at 0x3b4a76fc88>,\n",
       " <tensorflow.python.keras.layers.convolutional.Conv2D at 0x3b4a795a88>,\n",
       " <tensorflow.python.keras.layers.normalization.BatchNormalization at 0x3b4a79a4c8>,\n",
       " <tensorflow.python.keras.layers.core.Activation at 0x3b4a79d3c8>,\n",
       " <tensorflow.python.keras.layers.convolutional.Conv2D at 0x3b4a7a58c8>,\n",
       " <tensorflow.python.keras.layers.normalization.BatchNormalization at 0x3b4a7cb288>,\n",
       " <tensorflow.python.keras.layers.core.Activation at 0x3b4a7cb948>,\n",
       " <tensorflow.python.keras.layers.convolutional.Conv2D at 0x3b4a7d3648>,\n",
       " <tensorflow.python.keras.layers.normalization.BatchNormalization at 0x3b4a7fe748>,\n",
       " <tensorflow.python.keras.layers.merge.Add at 0x3b4a7fe708>,\n",
       " <tensorflow.python.keras.layers.core.Activation at 0x3b4a825388>,\n",
       " <tensorflow.python.keras.layers.convolutional.Conv2D at 0x3b4a803348>,\n",
       " <tensorflow.python.keras.layers.normalization.BatchNormalization at 0x3b4a82edc8>,\n",
       " <tensorflow.python.keras.layers.core.Activation at 0x3b4a831bc8>,\n",
       " <tensorflow.python.keras.layers.convolutional.Conv2D at 0x3b4a8358c8>,\n",
       " <tensorflow.python.keras.layers.normalization.BatchNormalization at 0x3b4a85fe88>,\n",
       " <tensorflow.python.keras.layers.core.Activation at 0x3b4a85fe48>,\n",
       " <tensorflow.python.keras.layers.convolutional.Conv2D at 0x3b4a866a48>,\n",
       " <tensorflow.python.keras.layers.normalization.BatchNormalization at 0x3b4a88c3c8>,\n",
       " <tensorflow.python.keras.layers.merge.Add at 0x3b4a88cb88>,\n",
       " <tensorflow.python.keras.layers.core.Activation at 0x3b4a895588>,\n",
       " <tensorflow.python.keras.layers.convolutional.Conv2D at 0x3b4a8bc748>,\n",
       " <tensorflow.python.keras.layers.normalization.BatchNormalization at 0x3b4a8c58c8>,\n",
       " <tensorflow.python.keras.layers.core.Activation at 0x3b4a8c0e88>,\n",
       " <tensorflow.python.keras.layers.convolutional.Conv2D at 0x3b4a8c0dc8>,\n",
       " <tensorflow.python.keras.layers.normalization.BatchNormalization at 0x3b4a8f0fc8>,\n",
       " <tensorflow.python.keras.layers.core.Activation at 0x3b4a8f6f08>,\n",
       " <tensorflow.python.keras.layers.convolutional.Conv2D at 0x3b4a91c948>,\n",
       " <tensorflow.python.keras.layers.normalization.BatchNormalization at 0x3b4a920dc8>,\n",
       " <tensorflow.python.keras.layers.merge.Add at 0x3b4a922088>,\n",
       " <tensorflow.python.keras.layers.core.Activation at 0x3b4a928ac8>,\n",
       " <tensorflow.python.keras.layers.convolutional.Conv2D at 0x3b4a952788>,\n",
       " <tensorflow.python.keras.layers.normalization.BatchNormalization at 0x3b4a980d48>,\n",
       " <tensorflow.python.keras.layers.core.Activation at 0x3b4a983408>,\n",
       " <tensorflow.python.keras.layers.convolutional.Conv2D at 0x3b4a98a948>,\n",
       " <tensorflow.python.keras.layers.normalization.BatchNormalization at 0x3b4a9af2c8>,\n",
       " <tensorflow.python.keras.layers.core.Activation at 0x3b4a9b5148>,\n",
       " <tensorflow.python.keras.layers.convolutional.Conv2D at 0x3b4a94b688>,\n",
       " <tensorflow.python.keras.layers.convolutional.Conv2D at 0x3b4a9b86c8>,\n",
       " <tensorflow.python.keras.layers.normalization.BatchNormalization at 0x3b4a952a48>,\n",
       " <tensorflow.python.keras.layers.normalization.BatchNormalization at 0x3b4a9e1848>,\n",
       " <tensorflow.python.keras.layers.merge.Add at 0x3b4a9e15c8>,\n",
       " <tensorflow.python.keras.layers.core.Activation at 0x3b4aa08fc8>,\n",
       " <tensorflow.python.keras.layers.convolutional.Conv2D at 0x3b4aa0bfc8>,\n",
       " <tensorflow.python.keras.layers.normalization.BatchNormalization at 0x3b4aa11f08>,\n",
       " <tensorflow.python.keras.layers.core.Activation at 0x3b4aa140c8>,\n",
       " <tensorflow.python.keras.layers.convolutional.Conv2D at 0x3b4aa18a08>,\n",
       " <tensorflow.python.keras.layers.normalization.BatchNormalization at 0x3b4aa41fc8>,\n",
       " <tensorflow.python.keras.layers.core.Activation at 0x3b4aa41508>,\n",
       " <tensorflow.python.keras.layers.convolutional.Conv2D at 0x3b4aa4b948>,\n",
       " <tensorflow.python.keras.layers.normalization.BatchNormalization at 0x3b4aa71508>,\n",
       " <tensorflow.python.keras.layers.merge.Add at 0x3b4aa71288>,\n",
       " <tensorflow.python.keras.layers.core.Activation at 0x3b4aa7a748>,\n",
       " <tensorflow.python.keras.layers.convolutional.Conv2D at 0x3b4aaa0888>,\n",
       " <tensorflow.python.keras.layers.normalization.BatchNormalization at 0x3b4aaa5708>,\n",
       " <tensorflow.python.keras.layers.core.Activation at 0x3b4aaa55c8>,\n",
       " <tensorflow.python.keras.layers.convolutional.Conv2D at 0x3b4aaae188>,\n",
       " <tensorflow.python.keras.layers.normalization.BatchNormalization at 0x3b4aad64c8>,\n",
       " <tensorflow.python.keras.layers.core.Activation at 0x3b4aad6388>,\n",
       " <tensorflow.python.keras.layers.convolutional.Conv2D at 0x3b4aad9c08>,\n",
       " <tensorflow.python.keras.layers.normalization.BatchNormalization at 0x3b4ab04f48>,\n",
       " <tensorflow.python.keras.layers.merge.Add at 0x3b4ab07208>,\n",
       " <tensorflow.python.keras.layers.core.Activation at 0x3b4ab0bbc8>,\n",
       " <tensorflow.python.keras.layers.convolutional.Conv2D at 0x3b4ab2fd88>,\n",
       " <tensorflow.python.keras.layers.normalization.BatchNormalization at 0x3b4ab37408>,\n",
       " <tensorflow.python.keras.layers.core.Activation at 0x3b4ab3b308>,\n",
       " <tensorflow.python.keras.layers.convolutional.Conv2D at 0x3b4ab40808>,\n",
       " <tensorflow.python.keras.layers.normalization.BatchNormalization at 0x3b4ab689c8>,\n",
       " <tensorflow.python.keras.layers.core.Activation at 0x3b4ab68848>,\n",
       " <tensorflow.python.keras.layers.convolutional.Conv2D at 0x3b4ab71588>,\n",
       " <tensorflow.python.keras.layers.normalization.BatchNormalization at 0x3b4ab98708>,\n",
       " <tensorflow.python.keras.layers.merge.Add at 0x3b4ab986c8>,\n",
       " <tensorflow.python.keras.layers.core.Activation at 0x3b4abc2348>,\n",
       " <tensorflow.python.keras.layers.convolutional.Conv2D at 0x3b4abc6c88>,\n",
       " <tensorflow.python.keras.layers.normalization.BatchNormalization at 0x3b4abc9e08>,\n",
       " <tensorflow.python.keras.layers.core.Activation at 0x3b4abcbc08>,\n",
       " <tensorflow.python.keras.layers.convolutional.Conv2D at 0x3b4abd1908>,\n",
       " <tensorflow.python.keras.layers.normalization.BatchNormalization at 0x3b4abfaec8>,\n",
       " <tensorflow.python.keras.layers.core.Activation at 0x3b4abfa408>,\n",
       " <tensorflow.python.keras.layers.convolutional.Conv2D at 0x3b4ac028c8>,\n",
       " <tensorflow.python.keras.layers.normalization.BatchNormalization at 0x3b4ad5b408>,\n",
       " <tensorflow.python.keras.layers.merge.Add at 0x3b4ad5bbc8>,\n",
       " <tensorflow.python.keras.layers.core.Activation at 0x3b4ad635c8>,\n",
       " <tensorflow.python.keras.layers.convolutional.Conv2D at 0x3b4ad87788>,\n",
       " <tensorflow.python.keras.layers.normalization.BatchNormalization at 0x3b4b661e48>,\n",
       " <tensorflow.python.keras.layers.core.Activation at 0x3b4ad8ee08>,\n",
       " <tensorflow.python.keras.layers.convolutional.Conv2D at 0x3b4b664208>,\n",
       " <tensorflow.python.keras.layers.normalization.BatchNormalization at 0x3b4b68b908>,\n",
       " <tensorflow.python.keras.layers.core.Activation at 0x3b4b68f288>,\n",
       " <tensorflow.python.keras.layers.convolutional.Conv2D at 0x3b4b693b88>,\n",
       " <tensorflow.python.keras.layers.normalization.BatchNormalization at 0x3b4b6bbe48>,\n",
       " <tensorflow.python.keras.layers.merge.Add at 0x3b4b6bf108>,\n",
       " <tensorflow.python.keras.layers.core.Activation at 0x3b4b6c3ac8>,\n",
       " <tensorflow.python.keras.layers.convolutional.Conv2D at 0x3b4b6eeac8>,\n",
       " <tensorflow.python.keras.layers.normalization.BatchNormalization at 0x3b4b71ae08>,\n",
       " <tensorflow.python.keras.layers.core.Activation at 0x3b4b71a208>,\n",
       " <tensorflow.python.keras.layers.convolutional.Conv2D at 0x3b4b724648>,\n",
       " <tensorflow.python.keras.layers.normalization.BatchNormalization at 0x3b4b74dbc8>,\n",
       " <tensorflow.python.keras.layers.core.Activation at 0x3b4b7513c8>,\n",
       " <tensorflow.python.keras.layers.convolutional.Conv2D at 0x3b4b6e8748>,\n",
       " <tensorflow.python.keras.layers.convolutional.Conv2D at 0x3b4b754388>,\n",
       " <tensorflow.python.keras.layers.normalization.BatchNormalization at 0x3b4b6ee308>,\n",
       " <tensorflow.python.keras.layers.normalization.BatchNormalization at 0x3b4b77c908>,\n",
       " <tensorflow.python.keras.layers.merge.Add at 0x3b4b77c688>,\n",
       " <tensorflow.python.keras.layers.core.Activation at 0x3b4b7a5588>,\n",
       " <tensorflow.python.keras.layers.convolutional.Conv2D at 0x3b4b7aaf48>,\n",
       " <tensorflow.python.keras.layers.normalization.BatchNormalization at 0x3b4b7acfc8>,\n",
       " <tensorflow.python.keras.layers.core.Activation at 0x3b4b7afe48>,\n",
       " <tensorflow.python.keras.layers.convolutional.Conv2D at 0x3b4b7b6e48>,\n",
       " <tensorflow.python.keras.layers.normalization.BatchNormalization at 0x3b4b7dee08>,\n",
       " <tensorflow.python.keras.layers.core.Activation at 0x3b4b7e0bc8>,\n",
       " <tensorflow.python.keras.layers.convolutional.Conv2D at 0x3b4b7e68c8>,\n",
       " <tensorflow.python.keras.layers.normalization.BatchNormalization at 0x3b4b80de08>,\n",
       " <tensorflow.python.keras.layers.merge.Add at 0x3b4b80ddc8>,\n",
       " <tensorflow.python.keras.layers.core.Activation at 0x3b4b8167c8>,\n",
       " <tensorflow.python.keras.layers.convolutional.Conv2D at 0x3b4b83b488>,\n",
       " <tensorflow.python.keras.layers.normalization.BatchNormalization at 0x3b4b841848>,\n",
       " <tensorflow.python.keras.layers.core.Activation at 0x3b4b841708>,\n",
       " <tensorflow.python.keras.layers.convolutional.Conv2D at 0x3b4b8492c8>,\n",
       " <tensorflow.python.keras.layers.normalization.BatchNormalization at 0x3b4b8778c8>,\n",
       " <tensorflow.python.keras.layers.core.Activation at 0x3b4b873e88>,\n",
       " <tensorflow.python.keras.layers.convolutional.Conv2D at 0x3b4b87a1c8>,\n",
       " <tensorflow.python.keras.layers.normalization.BatchNormalization at 0x3b4b89f8c8>,\n",
       " <tensorflow.python.keras.layers.merge.Add at 0x3b4b8a8b48>,\n",
       " <tensorflow.python.keras.layers.core.Activation at 0x3b4b8cdb08>,\n",
       " <tensorflow.python.keras.layers.pooling.GlobalAveragePooling2D at 0x3b4b8a2108>]"
      ]
     },
     "execution_count": 8,
     "metadata": {},
     "output_type": "execute_result"
    }
   ],
   "source": [
    "model.layers[0].layers"
   ]
  },
  {
   "cell_type": "code",
   "execution_count": 9,
   "metadata": {},
   "outputs": [],
   "source": [
    "# Since the ResNet50 model has already been trained, then we want to tell our model not to bother with training the ResNet part,\n",
    "#but to train only our dense output layer.\n",
    "model.layers[0].trainable = False"
   ]
  },
  {
   "cell_type": "code",
   "execution_count": 10,
   "metadata": {},
   "outputs": [
    {
     "name": "stdout",
     "output_type": "stream",
     "text": [
      "Model: \"sequential\"\n",
      "_________________________________________________________________\n",
      "Layer (type)                 Output Shape              Param #   \n",
      "=================================================================\n",
      "resnet50 (Model)             (None, 2048)              23587712  \n",
      "_________________________________________________________________\n",
      "dense (Dense)                (None, 2)                 4098      \n",
      "=================================================================\n",
      "Total params: 23,591,810\n",
      "Trainable params: 4,098\n",
      "Non-trainable params: 23,587,712\n",
      "_________________________________________________________________\n"
     ]
    }
   ],
   "source": [
    "model.summary()"
   ]
  },
  {
   "cell_type": "code",
   "execution_count": 11,
   "metadata": {},
   "outputs": [],
   "source": [
    "model.compile(optimizer='adam', loss='categorical_crossentropy', metrics=['accuracy'])"
   ]
  },
  {
   "cell_type": "code",
   "execution_count": 12,
   "metadata": {},
   "outputs": [],
   "source": [
    "steps_per_epoch_training = len(train_generator)\n",
    "steps_per_epoch_validation = len(validation_generator)\n",
    "num_epochs = 2"
   ]
  },
  {
   "cell_type": "code",
   "execution_count": 13,
   "metadata": {},
   "outputs": [
    {
     "name": "stdout",
     "output_type": "stream",
     "text": [
      "Epoch 1/2\n",
      "300/300 [==============================] - 13994s 47s/step - loss: 0.0378 - accuracy: 0.9880 - val_loss: 0.1978 - val_accuracy: 0.9208\n",
      "Epoch 2/2\n",
      "300/300 [==============================] - 12582s 42s/step - loss: 0.0102 - accuracy: 0.9972 - val_loss: 0.1767 - val_accuracy: 0.9346\n"
     ]
    }
   ],
   "source": [
    "fit_history = model.fit(\n",
    "    train_generator,\n",
    "    steps_per_epoch=steps_per_epoch_training,\n",
    "    epochs=num_epochs,\n",
    "    validation_data=validation_generator,\n",
    "    validation_steps=steps_per_epoch_validation,\n",
    "    verbose=1,\n",
    ")"
   ]
  },
  {
   "cell_type": "code",
   "execution_count": 14,
   "metadata": {},
   "outputs": [],
   "source": [
    "model.save('classifier_resnet_model.h5')"
   ]
  }
 ],
 "metadata": {
  "kernelspec": {
   "display_name": "Python 3.7.4 64-bit ('base': conda)",
   "language": "python",
   "name": "python37464bitbasecondaa573941c101e496e993423501ebafa10"
  },
  "language_info": {
   "codemirror_mode": {
    "name": "ipython",
    "version": 3
   },
   "file_extension": ".py",
   "mimetype": "text/x-python",
   "name": "python",
   "nbconvert_exporter": "python",
   "pygments_lexer": "ipython3",
   "version": "3.7.4"
  }
 },
 "nbformat": 4,
 "nbformat_minor": 2
}
